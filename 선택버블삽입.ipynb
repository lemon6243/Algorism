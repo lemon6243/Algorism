{
  "nbformat": 4,
  "nbformat_minor": 0,
  "metadata": {
    "colab": {
      "name": "선택버블삽입.ipynb",
      "provenance": [],
      "include_colab_link": true
    },
    "kernelspec": {
      "name": "python3",
      "display_name": "Python 3"
    },
    "language_info": {
      "name": "python"
    }
  },
  "cells": [
    {
      "cell_type": "markdown",
      "metadata": {
        "id": "view-in-github",
        "colab_type": "text"
      },
      "source": [
        "<a href=\"https://colab.research.google.com/github/lemon6243/Algorism/blob/main/%EC%84%A0%ED%83%9D%EB%B2%84%EB%B8%94%EC%82%BD%EC%9E%85.ipynb\" target=\"_parent\"><img src=\"https://colab.research.google.com/assets/colab-badge.svg\" alt=\"Open In Colab\"/></a>"
      ]
    },
    {
      "cell_type": "code",
      "metadata": {
        "id": "rQ3YAcs_PIon"
      },
      "source": [
        "# 큐 queue와 스택 stack\n",
        "\n",
        "#큐 queue 줄서기 먼저온 사람이 먼저 백신 주사를 맞는다.  FIFO\n",
        "# 1 2 3 4  in enqueue        1 2 3 4   out dequeue\n",
        "\n",
        "qu = [1,2,3,4]\n"
      ],
      "execution_count": null,
      "outputs": []
    },
    {
      "cell_type": "code",
      "metadata": {
        "colab": {
          "base_uri": "https://localhost:8080/"
        },
        "id": "7gpg4plIQ_k2",
        "outputId": "90e73585-3a3e-4550-c270-d5828d73abb9"
      },
      "source": [
        "qu.pop(0)\n",
        "qu"
      ],
      "execution_count": null,
      "outputs": [
        {
          "output_type": "execute_result",
          "data": {
            "text/plain": [
              "[]"
            ]
          },
          "metadata": {},
          "execution_count": 14
        }
      ]
    },
    {
      "cell_type": "code",
      "metadata": {
        "id": "nuFS-190RWXb"
      },
      "source": [
        "# 스택 stack 접시쌓기 나중에 올려진 접시가 먼저 나간다. LIFO\n",
        "# 1 2 3 4  in push             4 3 2 1  out pop\n",
        "\n",
        "st = [1,2,3,4]"
      ],
      "execution_count": null,
      "outputs": []
    },
    {
      "cell_type": "code",
      "metadata": {
        "colab": {
          "base_uri": "https://localhost:8080/"
        },
        "id": "_qWN9BWMR00t",
        "outputId": "68a3bfdd-0302-4dbd-f194-9bfc142ad604"
      },
      "source": [
        "st.pop()\n",
        "st"
      ],
      "execution_count": null,
      "outputs": [
        {
          "output_type": "execute_result",
          "data": {
            "text/plain": [
              "[]"
            ]
          },
          "metadata": {},
          "execution_count": 19
        }
      ]
    },
    {
      "cell_type": "code",
      "metadata": {
        "colab": {
          "base_uri": "https://localhost:8080/"
        },
        "id": "dZvsvKVvSBat",
        "outputId": "b339b5dc-6446-417c-cfa8-78de8b2d3694"
      },
      "source": [
        "# 회문찾기 wow madam\n",
        "\n",
        "def palin(s):\n",
        "  qu=[]\n",
        "  st=[]\n",
        "\n",
        "  for x in s:\n",
        "    qu.append(x.lower())\n",
        "    st.append(x.lower())\n",
        "\n",
        "  while qu:\n",
        "    if qu.pop(0) != st.pop():\n",
        "      return False\n",
        "  return True\n",
        "\n",
        "palin(\"hello\")\n"
      ],
      "execution_count": null,
      "outputs": [
        {
          "output_type": "execute_result",
          "data": {
            "text/plain": [
              "False"
            ]
          },
          "metadata": {},
          "execution_count": 22
        }
      ]
    },
    {
      "cell_type": "code",
      "metadata": {
        "id": "B6OgesnAT11U"
      },
      "source": [
        "# 선택 정렬 (단순 선택, 선택법)\n",
        "# 데이터를 정렬하는 알고리즘\n",
        "# 가장 작은 데이터를 선택하여 맨 앞부터 순서대로 정렬한다. \n",
        "\n",
        "3 1 4 2 5\n",
        "\n",
        "1 2 3 4 5"
      ],
      "execution_count": null,
      "outputs": []
    },
    {
      "cell_type": "code",
      "metadata": {
        "colab": {
          "base_uri": "https://localhost:8080/"
        },
        "id": "azuoLUWyYcOU",
        "outputId": "d702b9b2-ee96-4788-9dc8-b58b269c2db3"
      },
      "source": [
        "# 가장 큰 데이터를 선택하여 맨 뒤부터 순서대로 정렬한다. \n",
        "\n",
        "def selectionSort(arr):\n",
        "  for i in range(len(arr),0,-1):\n",
        "    max = 0\n",
        "    for j in range(0, i):  # 나머지 값들 중 가장 큰 데이터를 선택하여\n",
        "      if arr[j] > arr[max]:\n",
        "        max = j\n",
        "      arr[max], arr[j] = arr[j], arr[max]  # 제일 큰값과 자리 교환\n",
        "      #print(arr)\n",
        "  return arr\n",
        "\n",
        "arr = [3, 1, 4, 2, 5]\n",
        "print(selectionSort(arr))"
      ],
      "execution_count": null,
      "outputs": [
        {
          "output_type": "stream",
          "name": "stdout",
          "text": [
            "[1, 2, 3, 4, 5]\n"
          ]
        }
      ]
    },
    {
      "cell_type": "code",
      "metadata": {
        "id": "uwDQgmlYYko4"
      },
      "source": [
        "# 버블정렬 -  단순교환법\n",
        "# 가장 큰원소를 마지막으로 보내는 방법"
      ],
      "execution_count": null,
      "outputs": []
    },
    {
      "cell_type": "code",
      "metadata": {
        "colab": {
          "base_uri": "https://localhost:8080/"
        },
        "id": "y5gTA4AbgGrn",
        "outputId": "09f5b17c-aac5-4b67-ee1d-d0c93343d421"
      },
      "source": [
        "def bubbleSort(arr):\n",
        "  for i in range(len(arr)-1, 0, -1):\n",
        "    for j in range(0, i):\n",
        "      if arr[j] > arr[j+1]:\n",
        "        arr[j], arr[j+1] = arr[j+1], arr[j]  # 자리 바꿈\n",
        "\n",
        "  return arr\n",
        "\n",
        "arr = [3, 1, 4, 2, 5]\n",
        "print(bubbleSort(arr))"
      ],
      "execution_count": null,
      "outputs": [
        {
          "output_type": "stream",
          "name": "stdout",
          "text": [
            "[1, 2, 3, 4, 5]\n"
          ]
        }
      ]
    },
    {
      "cell_type": "code",
      "metadata": {
        "colab": {
          "base_uri": "https://localhost:8080/"
        },
        "id": "t7MhmCrjjnEm",
        "outputId": "acb016a9-b848-4564-e9fb-0fcc02a578bc"
      },
      "source": [
        "import random\n",
        "\n",
        "def bubbleSort(arr):\n",
        "  for i in range(len(arr)-1, 0, -1):\n",
        "    for j in range(0, i):\n",
        "      if arr[j] > arr[j+1]:\n",
        "        arr[j], arr[j+1] = arr[j+1], arr[j]  # 자리 바꿈\n",
        "\n",
        "  return arr\n",
        "\n",
        "\n",
        "arr = random.sample(range(1,50), 7)\n",
        "print(arr)\n",
        "print(bubbleSort(arr))"
      ],
      "execution_count": null,
      "outputs": [
        {
          "output_type": "stream",
          "name": "stdout",
          "text": [
            "[46, 33, 45, 22, 35, 4, 13]\n",
            "[4, 13, 22, 33, 35, 45, 46]\n"
          ]
        }
      ]
    },
    {
      "cell_type": "code",
      "metadata": {
        "colab": {
          "base_uri": "https://localhost:8080/"
        },
        "id": "7-iuMhngkM-A",
        "outputId": "c5f0c1b5-6fbc-49cb-e14f-1aeb2c773155"
      },
      "source": [
        "# 삽입 정렬 - 기본 삽입법 단순 삽입법\n",
        "\n",
        "def insertionSort(arr):\n",
        "  for i in range(1,len(arr)): \n",
        "    while i > 0 and arr[i] < arr[i-1]:\n",
        "      arr[i] , arr[i-1] = arr[i-1], arr[i]\n",
        "      i -= 1\n",
        "  return arr\n",
        "\n",
        "arr = [3, 1, 4, 2, 5]\n",
        "print(insertionSort(arr))"
      ],
      "execution_count": null,
      "outputs": [
        {
          "output_type": "stream",
          "name": "stdout",
          "text": [
            "[1, 2, 3, 4, 5]\n"
          ]
        }
      ]
    },
    {
      "cell_type": "code",
      "metadata": {
        "id": "3PRVn_RIu8Pv",
        "outputId": "e00c6825-c6e7-4bd7-8e3c-b9a7e71485e7",
        "colab": {
          "base_uri": "https://localhost:8080/"
        }
      },
      "source": [
        "#퀵 정렬 - 기준값을 설정하여 그 값보다 작은 그룹과 큰 그룹으로 계속 나눈다. \n",
        "def quickSort(arr):\n",
        "  \n",
        "\n",
        "  return arr\n",
        "\n",
        "arr = [3, 1, 4, 2, 5, 6 ,9 ,8 ,10, 7]\n",
        "print(quickSort(arr))"
      ],
      "execution_count": 25,
      "outputs": [
        {
          "output_type": "stream",
          "name": "stdout",
          "text": [
            "[3, 1, 4, 2, 5, 6, 9, 8, 10, 7]\n"
          ]
        }
      ]
    }
  ]
}