{
  "nbformat": 4,
  "nbformat_minor": 0,
  "metadata": {
    "colab": {
      "name": "LinkedList.ipynb",
      "provenance": [],
      "collapsed_sections": [],
      "include_colab_link": true
    },
    "kernelspec": {
      "name": "python3",
      "display_name": "Python 3"
    },
    "language_info": {
      "name": "python"
    }
  },
  "cells": [
    {
      "cell_type": "markdown",
      "metadata": {
        "id": "view-in-github",
        "colab_type": "text"
      },
      "source": [
        "<a href=\"https://colab.research.google.com/github/lemon6243/Algorism/blob/main/LinkedList.ipynb\" target=\"_parent\"><img src=\"https://colab.research.google.com/assets/colab-badge.svg\" alt=\"Open In Colab\"/></a>"
      ]
    },
    {
      "cell_type": "code",
      "metadata": {
        "id": "K0Xb6UtxiSsM"
      },
      "source": [
        "# 자료구조\n",
        "\n",
        "# 단순구조 - 정수, 실수, 문자, 문자열\n",
        "# 선형구조 - 스택, 큐, 리스트, 연결리스트(*Linked List)\n",
        "# 비선형구조 - 트리, 그래프\n",
        "# 파일구조 - 순차, 색인...\n",
        "\n",
        "# 리스트 - 연속적인 저장 형태 \n",
        "#          (배열 - 크기가 정해진다. 변경 불가능, \n",
        "#           리스트 - 크기가 변하는 구조)\n",
        "\n",
        "# 연결리스트 - 저장되는 각 데이터가 이전 데이터 , 다음데이터를 가리키는\n",
        "#              정보까지 포함한다. (데이터+다음데이터 포인터)\n",
        "   1,2,3       4,5,6,      7,8,9\n",
        "          \n",
        "    node1      node2       node3       node4\n",
        " 다음 포인터 다음 포인터 다음 포인터\n",
        "\n"
      ],
      "execution_count": null,
      "outputs": []
    },
    {
      "cell_type": "code",
      "metadata": {
        "id": "9Le-FeY0m4CQ"
      },
      "source": [
        "# 파이썬 연결리스트 자료구조 \n",
        "\n",
        "class Node: # 연결 리스트 구성의 실제 데이터 모습은 데이터 + 다음데이터포인터\n",
        "  def __init__(self, data, next=None):\n",
        "    self.data = data\n",
        "    self.next = next\n",
        "\n",
        "def init() : # 연결리스트를 만든다.  node1~ node4 연결포인터로 구성\n",
        "  global node1\n",
        "  node1 = Node(1)\n",
        "  node2 = Node(2)\n",
        "  node3 = Node(3)\n",
        "  node4 = Node(4)\n",
        "  node1.next = node2\n",
        "  node2.next = node3\n",
        "  node3.next = node4\n"
      ],
      "execution_count": null,
      "outputs": []
    },
    {
      "cell_type": "code",
      "metadata": {
        "colab": {
          "base_uri": "https://localhost:8080/"
        },
        "id": "mZ0973ZSnyVv",
        "outputId": "837dbb0c-f851-4ad8-e1eb-81629a33f2f1"
      },
      "source": [
        "# 스택(Last In First Out) \n",
        "\n",
        "def Stack() :\n",
        "  stack = []\n",
        "  stack.append(1)\n",
        "  stack.append(2)\n",
        "  stack.append(3)\n",
        "  stack.append(4)\n",
        "  stack.append(5)\n",
        "  print(stack)\n",
        "\n",
        "  while stack:\n",
        "    print(\"POP Value is \", stack.pop())\n",
        "Stack()"
      ],
      "execution_count": null,
      "outputs": [
        {
          "output_type": "stream",
          "name": "stdout",
          "text": [
            "[1, 2, 3, 4, 5]\n",
            "POP Value is  5\n",
            "POP Value is  4\n",
            "POP Value is  3\n",
            "POP Value is  2\n",
            "POP Value is  1\n"
          ]
        }
      ]
    },
    {
      "cell_type": "code",
      "metadata": {
        "id": "5T81jur9q8KC"
      },
      "source": [
        "K = ((a*b) - (c/d))"
      ],
      "execution_count": null,
      "outputs": []
    },
    {
      "cell_type": "code",
      "metadata": {
        "id": "gEo-FX0Qqeej"
      },
      "source": [
        "step 1, a\n",
        "step 2, a b \n",
        "step 3, a b *\n",
        "step 4, a b * c\n",
        "step 5, a b * c d\n",
        "step 6, a b * c d /\n",
        "step 6, a b * c d / -"
      ],
      "execution_count": null,
      "outputs": []
    },
    {
      "cell_type": "code",
      "metadata": {
        "colab": {
          "base_uri": "https://localhost:8080/",
          "height": 135
        },
        "id": "t7gSpuptr6Mi",
        "outputId": "a033aebf-a533-4c7a-a758-b29b0573480a"
      },
      "source": [
        "a b * c d / -   \n",
        "\n",
        "a b  a를 스택에 push 하고 b 스택에 push한다. \n",
        "\n",
        "* -> x   *를 만나면 b스택에서 pop 하고 a를 스택에서 pop한다음 *한 결과 x를  \n",
        "        다시 스택에 넣는다. \n",
        "x c d    c와d를 스택 push  d c 를  pop한 후 c/d 연산 수행 결과 y를 push\n",
        "\n",
        "x y       y와 x를 pop한다음 연산 -를 x-y 수행하고 그 결과 z push 스택에 넣는다. "
      ],
      "execution_count": null,
      "outputs": [
        {
          "output_type": "error",
          "ename": "SyntaxError",
          "evalue": "ignored",
          "traceback": [
            "\u001b[0;36m  File \u001b[0;32m\"<ipython-input-4-353e3e52916f>\"\u001b[0;36m, line \u001b[0;32m1\u001b[0m\n\u001b[0;31m    a b * c d / -\u001b[0m\n\u001b[0m      ^\u001b[0m\n\u001b[0;31mSyntaxError\u001b[0m\u001b[0;31m:\u001b[0m invalid syntax\n"
          ]
        }
      ]
    },
    {
      "cell_type": "code",
      "metadata": {
        "colab": {
          "base_uri": "https://localhost:8080/"
        },
        "id": "KZw2OTa_tPIJ",
        "outputId": "41b197c9-46e6-49d6-8eec-d9c4d85623eb"
      },
      "source": [
        "# 파이썬 연결리스트 자료구조 \n",
        "\n",
        "class Node: # 연결 리스트 구성의 실제 데이터 모습은 데이터 + 다음데이터포인터\n",
        "  def __init__(self, data, next=None): # 다음 주소 초기값을  None\n",
        "    self.data = data\n",
        "    self.next = next\n",
        "\n",
        "\n",
        "node1 = Node(1)  # data = 1\n",
        "\n",
        "print(node1.data)\n",
        "print(node1.next)"
      ],
      "execution_count": null,
      "outputs": [
        {
          "output_type": "stream",
          "name": "stdout",
          "text": [
            "1\n",
            "None\n"
          ]
        }
      ]
    },
    {
      "cell_type": "code",
      "metadata": {
        "colab": {
          "base_uri": "https://localhost:8080/"
        },
        "id": "m_3iK2LFyfzF",
        "outputId": "119f78e2-7565-423e-c731-2c878b964751"
      },
      "source": [
        "node2 = Node(3)\n",
        "print(node2.data)\n",
        "print(node2.next)\n",
        "\n"
      ],
      "execution_count": null,
      "outputs": [
        {
          "output_type": "stream",
          "name": "stdout",
          "text": [
            "3\n",
            "None\n"
          ]
        }
      ]
    },
    {
      "cell_type": "code",
      "metadata": {
        "colab": {
          "base_uri": "https://localhost:8080/"
        },
        "id": "pq9Mw37lzCUd",
        "outputId": "0751a192-e6e7-4985-9575-0b46d8d09c1c"
      },
      "source": [
        "node1.next = node2\n",
        "\n",
        "print(node1.data)\n",
        "print(node1.next)"
      ],
      "execution_count": null,
      "outputs": [
        {
          "output_type": "stream",
          "name": "stdout",
          "text": [
            "1\n",
            "<__main__.Node object at 0x7f0f9a775950>\n"
          ]
        }
      ]
    },
    {
      "cell_type": "code",
      "metadata": {
        "colab": {
          "base_uri": "https://localhost:8080/"
        },
        "id": "_6ITsnIUyzeM",
        "outputId": "3adda93f-cf61-48f1-9e12-eb5720247b4c"
      },
      "source": [
        "print(node1.next.data)\n",
        "print(node2.data)"
      ],
      "execution_count": null,
      "outputs": [
        {
          "output_type": "stream",
          "name": "stdout",
          "text": [
            "3\n",
            "3\n"
          ]
        }
      ]
    },
    {
      "cell_type": "code",
      "metadata": {
        "id": "c_kdngOw2jrf"
      },
      "source": [
        ""
      ],
      "execution_count": null,
      "outputs": []
    },
    {
      "cell_type": "code",
      "metadata": {
        "colab": {
          "base_uri": "https://localhost:8080/"
        },
        "id": "5xWwafYazYCE",
        "outputId": "fcf9195f-97d4-4200-c282-838aa9ea8f63"
      },
      "source": [
        "class Node:\n",
        "  def __init__(self, data, next=None):\n",
        "    self.data = data\n",
        "    self.next = next \n",
        "\n",
        "\n",
        "def add(data):\n",
        "  node = head\n",
        "  while node.next: #node의 next가 있을 경우만 실행\n",
        "    node = node.next #다음 노드가 있는지 계속 반복\n",
        "  node.next = Node(data) # 다음 노드가 없을 경우 새로운 노드 생성\n",
        "\n",
        "node1 = Node(1)\n",
        "head = node1\n",
        "\n",
        "add(3)\n",
        "print(node1.next.data)"
      ],
      "execution_count": null,
      "outputs": [
        {
          "output_type": "stream",
          "name": "stdout",
          "text": [
            "3\n"
          ]
        }
      ]
    },
    {
      "cell_type": "code",
      "metadata": {
        "id": "mkFXqUvU2IcM"
      },
      "source": [
        "add(4)\n",
        "add(5)"
      ],
      "execution_count": null,
      "outputs": []
    },
    {
      "cell_type": "code",
      "metadata": {
        "colab": {
          "base_uri": "https://localhost:8080/"
        },
        "id": "-AE_Bn5U1_qn",
        "outputId": "c6995f20-17a7-4461-d1e2-8c7be49c6289"
      },
      "source": [
        "node = head\n",
        "while node.next: #있는 경우만 실행\n",
        "  print(node.data)\n",
        "  node= node.next\n",
        "\n",
        "print(node.data)\n"
      ],
      "execution_count": null,
      "outputs": [
        {
          "output_type": "stream",
          "name": "stdout",
          "text": [
            "1\n",
            "3\n",
            "4\n",
            "5\n"
          ]
        }
      ]
    },
    {
      "cell_type": "code",
      "metadata": {
        "id": "twIbQELmySFI"
      },
      "source": [
        ""
      ],
      "execution_count": null,
      "outputs": []
    }
  ]
}