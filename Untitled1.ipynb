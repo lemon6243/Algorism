{
  "nbformat": 4,
  "nbformat_minor": 0,
  "metadata": {
    "colab": {
      "name": "Untitled1.ipynb",
      "provenance": [],
      "authorship_tag": "ABX9TyOIXSU7p/66meGIkqVQxg9H",
      "include_colab_link": true
    },
    "kernelspec": {
      "name": "python3",
      "display_name": "Python 3"
    },
    "language_info": {
      "name": "python"
    }
  },
  "cells": [
    {
      "cell_type": "markdown",
      "metadata": {
        "id": "view-in-github",
        "colab_type": "text"
      },
      "source": [
        "<a href=\"https://colab.research.google.com/github/lemon6243/Algorism/blob/main/Untitled1.ipynb\" target=\"_parent\"><img src=\"https://colab.research.google.com/assets/colab-badge.svg\" alt=\"Open In Colab\"/></a>"
      ]
    },
    {
      "cell_type": "code",
      "metadata": {
        "colab": {
          "base_uri": "https://localhost:8080/"
        },
        "id": "LQgagtNUqp1T",
        "outputId": "47aca104-e944-4aab-cfb0-20dacab46fdf"
      },
      "source": [
        "!pip install wordcloud\n",
        "\n",
        "!sudo apt-get install -y fonts-nanum\n",
        "\n",
        "!sudo fc-cache -fv\n",
        "\n",
        "!rm ~/.cache/matplotlib -rf\n",
        "\n",
        "import matplotlib.pyplot as plt\n",
        "\n",
        "\n",
        "plt.rc('font', family='NanumBarunGothic')\n"
      ],
      "execution_count": 3,
      "outputs": [
        {
          "output_type": "stream",
          "name": "stdout",
          "text": [
            "Requirement already satisfied: wordcloud in /usr/local/lib/python3.7/dist-packages (1.5.0)\n",
            "Requirement already satisfied: pillow in /usr/local/lib/python3.7/dist-packages (from wordcloud) (7.1.2)\n",
            "Requirement already satisfied: numpy>=1.6.1 in /usr/local/lib/python3.7/dist-packages (from wordcloud) (1.19.5)\n",
            "Reading package lists... Done\n",
            "Building dependency tree       \n",
            "Reading state information... Done\n",
            "fonts-nanum is already the newest version (20170925-1).\n",
            "0 upgraded, 0 newly installed, 0 to remove and 37 not upgraded.\n",
            "/usr/share/fonts: caching, new cache contents: 0 fonts, 1 dirs\n",
            "/usr/share/fonts/truetype: caching, new cache contents: 0 fonts, 3 dirs\n",
            "/usr/share/fonts/truetype/humor-sans: caching, new cache contents: 1 fonts, 0 dirs\n",
            "/usr/share/fonts/truetype/liberation: caching, new cache contents: 16 fonts, 0 dirs\n",
            "/usr/share/fonts/truetype/nanum: caching, new cache contents: 10 fonts, 0 dirs\n",
            "/usr/local/share/fonts: caching, new cache contents: 0 fonts, 0 dirs\n",
            "/root/.local/share/fonts: skipping, no such directory\n",
            "/root/.fonts: skipping, no such directory\n",
            "/var/cache/fontconfig: cleaning cache directory\n",
            "/root/.cache/fontconfig: not cleaning non-existent cache directory\n",
            "/root/.fontconfig: not cleaning non-existent cache directory\n",
            "fc-cache: succeeded\n"
          ]
        }
      ]
    },
    {
      "cell_type": "code",
      "metadata": {
        "id": "bgMmg3bCq0Ji"
      },
      "source": [
        "from wordcloud import WordCloud"
      ],
      "execution_count": 5,
      "outputs": []
    },
    {
      "cell_type": "code",
      "metadata": {
        "colab": {
          "base_uri": "https://localhost:8080/"
        },
        "id": "vSggbLC6q45C",
        "outputId": "effc2b67-12f1-44d5-b636-347a1ebc74a0"
      },
      "source": [
        "text = \"\"\n",
        "\n",
        "with open(\"국민.txt\", \"r\", encoding= \"utf-8\") as f:\n",
        "  lines = f.readlines()\n",
        "  for line in lines:\n",
        "    text += line\n",
        "\n",
        "font_path = 'C:/Windows/Fonts/NanumBarunGothic.ttf'\n",
        "\n",
        "wc = WordCloud(font_path=font_path, background_color=\"white\", width=600, height=400)\n",
        "wc.generate(text)\n",
        "wc.to_file(\"result2.png\")\n"
      ],
      "execution_count": 6,
      "outputs": [
        {
          "output_type": "execute_result",
          "data": {
            "text/plain": [
              "<wordcloud.wordcloud.WordCloud at 0x7f758382aed0>"
            ]
          },
          "metadata": {},
          "execution_count": 6
        }
      ]
    },
    {
      "cell_type": "code",
      "metadata": {
        "colab": {
          "base_uri": "https://localhost:8080/"
        },
        "id": "YyS0mX1NuhMw",
        "outputId": "76cb21f6-d4be-4849-8ad6-c283b8640f2e"
      },
      "source": [
        "#!pip install konlpy\n",
        "# 형태소 분석\n",
        "\n",
        "!pip install collections\n",
        "#단어 갯수 세기"
      ],
      "execution_count": 10,
      "outputs": [
        {
          "output_type": "stream",
          "name": "stdout",
          "text": [
            "\u001b[31mERROR: Could not find a version that satisfies the requirement collections (from versions: none)\u001b[0m\n",
            "\u001b[31mERROR: No matching distribution found for collections\u001b[0m\n"
          ]
        }
      ]
    },
    {
      "cell_type": "code",
      "metadata": {
        "id": "BMU-l3-iurES"
      },
      "source": [
        "from konlpy.tag import Twitter #형태소 분석\n",
        "from collections import Counter #단어 갯수 세기"
      ],
      "execution_count": 13,
      "outputs": []
    },
    {
      "cell_type": "code",
      "metadata": {
        "id": "9JIFIzjNveQX"
      },
      "source": [
        "file = open(\"국민.txt\", \"r\", encoding= \"utf-8\")"
      ],
      "execution_count": 14,
      "outputs": []
    },
    {
      "cell_type": "code",
      "metadata": {
        "id": "TWtbH9KCvhpk"
      },
      "source": [
        "lists = file.readlines()"
      ],
      "execution_count": 15,
      "outputs": []
    },
    {
      "cell_type": "code",
      "metadata": {
        "id": "oQrrZOhevlgW"
      },
      "source": [
        "file.close()\n"
      ],
      "execution_count": 16,
      "outputs": []
    },
    {
      "cell_type": "code",
      "metadata": {
        "colab": {
          "base_uri": "https://localhost:8080/"
        },
        "id": "3-PSFyYEvrvK",
        "outputId": "c3e9c0de-97c1-490d-9a3b-470fe5755eb5"
      },
      "source": [
        "lists"
      ],
      "execution_count": 17,
      "outputs": [
        {
          "output_type": "execute_result",
          "data": {
            "text/plain": [
              "['우리는 민족중흥의 역사적 사명을 띠고 이 땅에 태어났다. 조상의 빛난 얼을 오늘에 되살려, 안으로 자주독립의 자세를 확립하고, 밖으로 인류 공영에 이바지할 때다. 이에, 우리의 나아갈 바를 밝혀 교육의 지표로 삼는다.\\n',\n",
              " '\\n',\n",
              " '성실한 마음과 튼튼한 몸으로, 학문과 기술을 배우고 익히며, 타고난 저마다의 소질을 계발하고, 우리의 처지를 약진의 발판으로 삼아, 창조의 힘과 개척의 정신을 기른다. 공익과 질서를 앞세우며 능률과 실질을 숭상하고, 경애와 신의에 뿌리박은 상부상조의 전통을 이어받아, 명랑하고 따뜻한 협동 정신을 북돋운다. 우리의 창의와 협력을 바탕으로 나라가 발전하며, 나라의 융성이 나의 발전의 근본임을 깨달아, 자유와 권리에 따르는 책임과 의무를 다하며, 스스로 국가 건설에 참여하고 봉사하는 국민 정신을 드높인다.\\n',\n",
              " '\\n',\n",
              " '반공 민주 정신에 투철한 애국 애족이 우리의 삶의 길이며, 자유 세계의 이상을 실현하는 기반이다. 길이 후손에 물려줄 영광된 통일 조국의 앞날을 내다보며, 신념과 긍지를 지닌 근면한 국민으로서, 민족의 슬기를 모아 줄기찬 노력으로, 새 역사를 창조하자.\\n']"
            ]
          },
          "metadata": {},
          "execution_count": 17
        }
      ]
    },
    {
      "cell_type": "code",
      "metadata": {
        "colab": {
          "base_uri": "https://localhost:8080/"
        },
        "id": "NAcA_EUkvvHq",
        "outputId": "8a9f0404-389d-4ce1-873e-08718bee3a9b"
      },
      "source": [
        "twitter = Twitter()"
      ],
      "execution_count": 18,
      "outputs": [
        {
          "output_type": "stream",
          "name": "stderr",
          "text": [
            "/usr/local/lib/python3.7/dist-packages/konlpy/tag/_okt.py:16: UserWarning: \"Twitter\" has changed to \"Okt\" since KoNLPy v0.4.5.\n",
            "  warn('\"Twitter\" has changed to \"Okt\" since KoNLPy v0.4.5.')\n"
          ]
        }
      ]
    },
    {
      "cell_type": "code",
      "metadata": {
        "id": "TGSv3w3kvzQ9"
      },
      "source": [
        "morphs = []\n",
        "\n",
        "for sentence in lists:\n",
        "  morphs.append(twitter.pos(sentence))"
      ],
      "execution_count": 19,
      "outputs": []
    },
    {
      "cell_type": "code",
      "metadata": {
        "colab": {
          "base_uri": "https://localhost:8080/"
        },
        "id": "Uqr_6QT2v-ts",
        "outputId": "8e04dfcc-3332-4395-8717-a688512cdb68"
      },
      "source": [
        "print(morphs)"
      ],
      "execution_count": 20,
      "outputs": [
        {
          "output_type": "stream",
          "name": "stdout",
          "text": [
            "[[('우리', 'Noun'), ('는', 'Josa'), ('민족', 'Noun'), ('중흥', 'Noun'), ('의', 'Josa'), ('역사', 'Noun'), ('적', 'Suffix'), ('사명', 'Noun'), ('을', 'Josa'), ('띠', 'Noun'), ('고', 'Josa'), ('이', 'Noun'), ('땅', 'Noun'), ('에', 'Josa'), ('태어났다', 'Verb'), ('.', 'Punctuation'), ('조상', 'Noun'), ('의', 'Josa'), ('빛난', 'Verb'), ('얼', 'Noun'), ('을', 'Josa'), ('오늘', 'Noun'), ('에', 'Josa'), ('되살려', 'Verb'), (',', 'Punctuation'), ('안', 'Noun'), ('으로', 'Josa'), ('자주독립', 'Noun'), ('의', 'Josa'), ('자세', 'Noun'), ('를', 'Josa'), ('확립', 'Noun'), ('하고', 'Josa'), (',', 'Punctuation'), ('밖', 'Noun'), ('으로', 'Josa'), ('인류', 'Noun'), ('공영', 'Noun'), ('에', 'Josa'), ('이바지', 'Noun'), ('할', 'Verb'), ('때', 'Noun'), ('다', 'Josa'), ('.', 'Punctuation'), ('이', 'Noun'), ('에', 'Josa'), (',', 'Punctuation'), ('우리', 'Noun'), ('의', 'Josa'), ('나아갈', 'Verb'), ('바를', 'Verb'), ('밝혀', 'Verb'), ('교육', 'Noun'), ('의', 'Josa'), ('지표', 'Noun'), ('로', 'Josa'), ('삼는다', 'Verb'), ('.', 'Punctuation'), ('\\n', 'Foreign')], [('\\n', 'Foreign')], [('성실한', 'Adjective'), ('마음', 'Noun'), ('과', 'Josa'), ('튼튼한', 'Adjective'), ('몸', 'Noun'), ('으로', 'Josa'), (',', 'Punctuation'), ('학문', 'Noun'), ('과', 'Josa'), ('기술', 'Noun'), ('을', 'Josa'), ('배우고', 'Verb'), ('익히며', 'Verb'), (',', 'Punctuation'), ('타고난', 'Verb'), ('저', 'Noun'), ('마다의', 'Josa'), ('소질', 'Noun'), ('을', 'Josa'), ('계발', 'Noun'), ('하고', 'Josa'), (',', 'Punctuation'), ('우리', 'Noun'), ('의', 'Josa'), ('처지', 'Noun'), ('를', 'Josa'), ('약진', 'Noun'), ('의', 'Josa'), ('발판', 'Noun'), ('으로', 'Josa'), ('삼아', 'Verb'), (',', 'Punctuation'), ('창조', 'Noun'), ('의', 'Josa'), ('힘', 'Noun'), ('과', 'Josa'), ('개척', 'Noun'), ('의', 'Josa'), ('정신', 'Noun'), ('을', 'Josa'), ('기른다', 'Verb'), ('.', 'Punctuation'), ('공익', 'Noun'), ('과', 'Josa'), ('질서', 'Noun'), ('를', 'Josa'), ('앞세우며', 'Verb'), ('능률', 'Noun'), ('과', 'Josa'), ('실질', 'Noun'), ('을', 'Josa'), ('숭상', 'Noun'), ('하고', 'Josa'), (',', 'Punctuation'), ('경', 'Modifier'), ('애', 'Noun'), ('와', 'Josa'), ('신의', 'Noun'), ('에', 'Josa'), ('뿌리', 'Noun'), ('박은', 'Verb'), ('상부상조', 'Noun'), ('의', 'Josa'), ('전통', 'Noun'), ('을', 'Josa'), ('이어', 'Verb'), ('받아', 'Verb'), (',', 'Punctuation'), ('명랑하고', 'Adjective'), ('따뜻한', 'Adjective'), ('협동', 'Noun'), ('정신', 'Noun'), ('을', 'Josa'), ('북', 'Noun'), ('돋운다', 'Verb'), ('.', 'Punctuation'), ('우리', 'Noun'), ('의', 'Josa'), ('창의', 'Noun'), ('와', 'Josa'), ('협력', 'Noun'), ('을', 'Josa'), ('바탕', 'Noun'), ('으로', 'Josa'), ('나라', 'Noun'), ('가', 'Josa'), ('발전', 'Noun'), ('하며', 'Verb'), (',', 'Punctuation'), ('나라', 'Noun'), ('의', 'Josa'), ('융성', 'Noun'), ('이', 'Josa'), ('나', 'Noun'), ('의', 'Josa'), ('발전', 'Noun'), ('의', 'Josa'), ('근', 'Modifier'), ('본', 'Modifier'), ('임', 'Noun'), ('을', 'Josa'), ('깨달', 'Noun'), ('아', 'Josa'), (',', 'Punctuation'), ('자유', 'Noun'), ('와', 'Josa'), ('권리', 'Noun'), ('에', 'Josa'), ('따르는', 'Verb'), ('책임', 'Noun'), ('과', 'Josa'), ('의무', 'Noun'), ('를', 'Josa'), ('다', 'Adverb'), ('하며', 'Verb'), (',', 'Punctuation'), ('스스로', 'Noun'), ('국가', 'Noun'), ('건설', 'Noun'), ('에', 'Josa'), ('참여', 'Noun'), ('하고', 'Josa'), ('봉사', 'Noun'), ('하는', 'Verb'), ('국민', 'Noun'), ('정신', 'Noun'), ('을', 'Josa'), ('드높인다', 'Verb'), ('.', 'Punctuation'), ('\\n', 'Foreign')], [('\\n', 'Foreign')], [('반공', 'Noun'), ('민주', 'Noun'), ('정신', 'Noun'), ('에', 'Josa'), ('투철', 'Noun'), ('한', 'Josa'), ('애국', 'Noun'), ('애족', 'Noun'), ('이', 'Josa'), ('우리', 'Noun'), ('의', 'Josa'), ('삶', 'Noun'), ('의', 'Josa'), ('길이', 'Noun'), ('며', 'Josa'), (',', 'Punctuation'), ('자유', 'Noun'), ('세계', 'Noun'), ('의', 'Josa'), ('이상', 'Noun'), ('을', 'Josa'), ('실현', 'Noun'), ('하는', 'Verb'), ('기반', 'Noun'), ('이다', 'Josa'), ('.', 'Punctuation'), ('길이', 'Noun'), ('후손', 'Noun'), ('에', 'Josa'), ('물려줄', 'Verb'), ('영광', 'Noun'), ('된', 'Verb'), ('통일', 'Noun'), ('조국', 'Noun'), ('의', 'Josa'), ('앞날', 'Noun'), ('을', 'Josa'), ('내다보며', 'Verb'), (',', 'Punctuation'), ('신념', 'Noun'), ('과', 'Josa'), ('긍지', 'Noun'), ('를', 'Josa'), ('지닌', 'Verb'), ('근면한', 'Adjective'), ('국민', 'Noun'), ('으로서', 'Josa'), (',', 'Punctuation'), ('민족', 'Noun'), ('의', 'Josa'), ('슬기', 'Noun'), ('를', 'Josa'), ('모아', 'Verb'), ('줄기찬', 'Adjective'), ('노력', 'Noun'), ('으로', 'Josa'), (',', 'Punctuation'), ('새', 'Noun'), ('역사', 'Noun'), ('를', 'Josa'), ('창조', 'Noun'), ('하자', 'Verb'), ('.', 'Punctuation'), ('\\n', 'Foreign')]]\n"
          ]
        }
      ]
    },
    {
      "cell_type": "code",
      "metadata": {
        "colab": {
          "base_uri": "https://localhost:8080/"
        },
        "id": "VD3PzU79wVbO",
        "outputId": "0c361858-1778-4325-a6dc-fa17a47c9158"
      },
      "source": [
        "nouns = []\n",
        "for sentence in morphs:\n",
        "  for word, tag in sentence:\n",
        "    if tag in ['Noun'] and (\"것 not in word\") and (\"내\" not in word) and (\"나\" not in word) and (\"수\" not in word):\n",
        "      nouns. append(word)\n",
        "\n",
        "print(nouns)"
      ],
      "execution_count": 21,
      "outputs": [
        {
          "output_type": "stream",
          "name": "stdout",
          "text": [
            "['우리', '민족', '중흥', '역사', '사명', '띠', '이', '땅', '조상', '얼', '오늘', '안', '자주독립', '자세', '확립', '밖', '인류', '공영', '이바지', '때', '이', '우리', '교육', '지표', '마음', '몸', '학문', '기술', '저', '소질', '계발', '우리', '처지', '약진', '발판', '창조', '힘', '개척', '정신', '공익', '질서', '능률', '실질', '숭상', '애', '신의', '뿌리', '상부상조', '전통', '협동', '정신', '북', '우리', '창의', '협력', '바탕', '발전', '융성', '발전', '임', '깨달', '자유', '권리', '책임', '의무', '스스로', '국가', '건설', '참여', '봉사', '국민', '정신', '반공', '민주', '정신', '투철', '애국', '애족', '우리', '삶', '길이', '자유', '세계', '이상', '실현', '기반', '길이', '후손', '영광', '통일', '조국', '앞날', '신념', '긍지', '국민', '민족', '슬기', '노력', '새', '역사', '창조']\n"
          ]
        }
      ]
    },
    {
      "cell_type": "code",
      "metadata": {
        "colab": {
          "base_uri": "https://localhost:8080/"
        },
        "id": "ByNEk5auxX9d",
        "outputId": "8f8939ae-1d39-41b1-e827-650d8e3555ef"
      },
      "source": [
        "count = Counter(nouns)\n",
        "words = count.most_common()\n",
        "words"
      ],
      "execution_count": 22,
      "outputs": [
        {
          "output_type": "execute_result",
          "data": {
            "text/plain": [
              "[('우리', 5),\n",
              " ('정신', 4),\n",
              " ('민족', 2),\n",
              " ('역사', 2),\n",
              " ('이', 2),\n",
              " ('창조', 2),\n",
              " ('발전', 2),\n",
              " ('자유', 2),\n",
              " ('국민', 2),\n",
              " ('길이', 2),\n",
              " ('중흥', 1),\n",
              " ('사명', 1),\n",
              " ('띠', 1),\n",
              " ('땅', 1),\n",
              " ('조상', 1),\n",
              " ('얼', 1),\n",
              " ('오늘', 1),\n",
              " ('안', 1),\n",
              " ('자주독립', 1),\n",
              " ('자세', 1),\n",
              " ('확립', 1),\n",
              " ('밖', 1),\n",
              " ('인류', 1),\n",
              " ('공영', 1),\n",
              " ('이바지', 1),\n",
              " ('때', 1),\n",
              " ('교육', 1),\n",
              " ('지표', 1),\n",
              " ('마음', 1),\n",
              " ('몸', 1),\n",
              " ('학문', 1),\n",
              " ('기술', 1),\n",
              " ('저', 1),\n",
              " ('소질', 1),\n",
              " ('계발', 1),\n",
              " ('처지', 1),\n",
              " ('약진', 1),\n",
              " ('발판', 1),\n",
              " ('힘', 1),\n",
              " ('개척', 1),\n",
              " ('공익', 1),\n",
              " ('질서', 1),\n",
              " ('능률', 1),\n",
              " ('실질', 1),\n",
              " ('숭상', 1),\n",
              " ('애', 1),\n",
              " ('신의', 1),\n",
              " ('뿌리', 1),\n",
              " ('상부상조', 1),\n",
              " ('전통', 1),\n",
              " ('협동', 1),\n",
              " ('북', 1),\n",
              " ('창의', 1),\n",
              " ('협력', 1),\n",
              " ('바탕', 1),\n",
              " ('융성', 1),\n",
              " ('임', 1),\n",
              " ('깨달', 1),\n",
              " ('권리', 1),\n",
              " ('책임', 1),\n",
              " ('의무', 1),\n",
              " ('스스로', 1),\n",
              " ('국가', 1),\n",
              " ('건설', 1),\n",
              " ('참여', 1),\n",
              " ('봉사', 1),\n",
              " ('반공', 1),\n",
              " ('민주', 1),\n",
              " ('투철', 1),\n",
              " ('애국', 1),\n",
              " ('애족', 1),\n",
              " ('삶', 1),\n",
              " ('세계', 1),\n",
              " ('이상', 1),\n",
              " ('실현', 1),\n",
              " ('기반', 1),\n",
              " ('후손', 1),\n",
              " ('영광', 1),\n",
              " ('통일', 1),\n",
              " ('조국', 1),\n",
              " ('앞날', 1),\n",
              " ('신념', 1),\n",
              " ('긍지', 1),\n",
              " ('슬기', 1),\n",
              " ('노력', 1),\n",
              " ('새', 1)]"
            ]
          },
          "metadata": {},
          "execution_count": 22
        }
      ]
    },
    {
      "cell_type": "code",
      "metadata": {
        "colab": {
          "base_uri": "https://localhost:8080/"
        },
        "id": "XpYzVfulxtk7",
        "outputId": "f53129d5-9e96-484e-89b3-a36bcf10a107"
      },
      "source": [
        "import matplotlib\n",
        "\n",
        "wordcloud = WordCloud(background_color=\"white\", colormap= \"Accent_r\", width=600, height=400).generate_from_frequencies(words)\n",
        "wordcloud.generate(text)\n",
        "wc.to_file(\"result3.png\")"
      ],
      "execution_count": 25,
      "outputs": [
        {
          "output_type": "execute_result",
          "data": {
            "text/plain": [
              "<wordcloud.wordcloud.WordCloud at 0x7f758382aed0>"
            ]
          },
          "metadata": {},
          "execution_count": 25
        }
      ]
    },
    {
      "cell_type": "code",
      "metadata": {
        "id": "jNimQCsryTUI"
      },
      "source": [
        ""
      ],
      "execution_count": null,
      "outputs": []
    }
  ]
}