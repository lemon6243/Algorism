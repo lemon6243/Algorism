{
  "nbformat": 4,
  "nbformat_minor": 0,
  "metadata": {
    "colab": {
      "name": "알고리즘&자료구조.ipynb",
      "provenance": [],
      "authorship_tag": "ABX9TyMHmLD89rfAijFWIc5EQlfp",
      "include_colab_link": true
    },
    "kernelspec": {
      "name": "python3",
      "display_name": "Python 3"
    },
    "language_info": {
      "name": "python"
    }
  },
  "cells": [
    {
      "cell_type": "markdown",
      "metadata": {
        "id": "view-in-github",
        "colab_type": "text"
      },
      "source": [
        "<a href=\"https://colab.research.google.com/github/lemon6243/Algorism/blob/main/%EC%95%8C%EA%B3%A0%EB%A6%AC%EC%A6%98%26%EC%9E%90%EB%A3%8C%EA%B5%AC%EC%A1%B0.ipynb\" target=\"_parent\"><img src=\"https://colab.research.google.com/assets/colab-badge.svg\" alt=\"Open In Colab\"/></a>"
      ]
    },
    {
      "cell_type": "code",
      "metadata": {
        "id": "wjzoXiY1349Y"
      },
      "source": [
        "# 알고리즘 - 문제 해결 절차, 실 생활에서의 알고리즘 ex) 요리 레시피, 악보,\n",
        "\n",
        "# 1부터 n 까지의 정수의 합을 구하는 알고리즘...\n",
        "\n",
        "# 1 부터 10까지의 정수\n",
        "# 1 더하기 2 결과 3을 기억한다.\n",
        "# 기억해둔 3에 그 다음 숫자 3를 더한 6을 기억한다.\n",
        "# 기억해둔 6에 그 다음 숫자 4를 더한 10을 기억한다.\n",
        ".\n",
        ".\n",
        ".\n",
        "#............. 그 다음 숫자 10을 더한 55를 기억한다.\n",
        "# 마지막 숫자를 출력한다.\n",
        "\n",
        "# n 입력   ->    알고리즘    ->    출력 (1부터 n까지의 합)"
      ],
      "execution_count": null,
      "outputs": []
    },
    {
      "cell_type": "code",
      "metadata": {
        "colab": {
          "base_uri": "https://localhost:8080/"
        },
        "id": "VukUetPV5bV-",
        "outputId": "4181aa31-2fec-42f9-b5d3-11b6eacd96b4"
      },
      "source": [
        "def sum_n(n):\n",
        "  s = 0\n",
        "  for i in range(1, n+1): # 미만이기 때문에 +1을 해준다\n",
        "    s = s + i\n",
        "    #print(\"s=\",s, \"i =\" ,i)\n",
        "  return s \n",
        "\n",
        "print(sum_n(100))"
      ],
      "execution_count": 4,
      "outputs": [
        {
          "output_type": "stream",
          "name": "stdout",
          "text": [
            "5050\n"
          ]
        }
      ]
    },
    {
      "cell_type": "code",
      "metadata": {
        "colab": {
          "base_uri": "https://localhost:8080/"
        },
        "id": "VOU8WJvs6oEj",
        "outputId": "73a1ecfc-93ff-4ce2-e3fa-1762c60532d7"
      },
      "source": [
        "def sum_m(m):\n",
        "  return m*(m+1) // 2\n",
        "\n",
        "print(sum_m(100))\n",
        "\n",
        "m(m+1)\n",
        "------\n",
        "  2"
      ],
      "execution_count": 8,
      "outputs": [
        {
          "output_type": "stream",
          "name": "stdout",
          "text": [
            "5050\n"
          ]
        }
      ]
    },
    {
      "cell_type": "code",
      "metadata": {
        "colab": {
          "base_uri": "https://localhost:8080/"
        },
        "id": "eD42TIBG77vj",
        "outputId": "c6f12288-47fa-4955-a721-816a1998c8b6"
      },
      "source": [
        "#최대값 찾기\n",
        "#주어진 숫자 n 개 중에서 가장 큰 수를 찾는 알고리즘...\n",
        "\n",
        "# 4, 6 , 8, 1, 3 ,9 -> 9\n",
        "\n",
        "def find_max(a):\n",
        "  n = len(a)\n",
        "  mx = a[0] # 4\n",
        "  for i in range(1, n):\n",
        "    if a[i] > mx:\n",
        "      mx = a[i]\n",
        "      print(mx)\n",
        "\n",
        "\n",
        "  return mx\n",
        "\n",
        "v = [4, 6 , 8, 1, 3 ,9]\n",
        "print(find_max(v))"
      ],
      "execution_count": 11,
      "outputs": [
        {
          "output_type": "stream",
          "name": "stdout",
          "text": [
            "6\n",
            "8\n",
            "9\n",
            "9\n"
          ]
        }
      ]
    },
    {
      "cell_type": "code",
      "metadata": {
        "colab": {
          "base_uri": "https://localhost:8080/"
        },
        "id": "_e4gHNpj9W-a",
        "outputId": "e37743be-b85f-4c0a-bd5f-6386032cd417"
      },
      "source": [
        "#최소값 찾기\n",
        "#주어진 숫자 n 개 중에서 가장 작은 수를 찾는 알고리즘...\n",
        "\n",
        "# 4, 6 , 8, 1, 3 ,9 -> 1\n",
        "\n",
        "def find_mn(a):\n",
        "  n = len(a)\n",
        "  mn = a[0] # 4\n",
        "  for i in range(1, n):\n",
        "    if a[i] < mn:\n",
        "      mn = a[i]\n",
        "      print(mn)\n",
        "\n",
        "\n",
        "  return mn\n",
        "\n",
        "v = [4, 6 , 8, 1, 3 ,9]\n",
        "print(find_mn(v))"
      ],
      "execution_count": 12,
      "outputs": [
        {
          "output_type": "stream",
          "name": "stdout",
          "text": [
            "1\n",
            "1\n"
          ]
        }
      ]
    },
    {
      "cell_type": "code",
      "metadata": {
        "colab": {
          "base_uri": "https://localhost:8080/"
        },
        "id": "jdCTTS6A-Fhd",
        "outputId": "5c110839-b674-4c39-b9f7-e37055da10ae"
      },
      "source": [
        "#최소값 찾기\n",
        "#주어진 숫자 n 개 중에서 가장 작은 수의 위치를 찾는 알고리즘...\n",
        "\n",
        "# 4, 6 , 8, 1, 3 ,9 -> 3\n",
        "\n",
        "def find_mn_idx(a):\n",
        "  n = len(a)\n",
        "  mnidx = 0\n",
        "  for i in range(1, n):\n",
        "    if a[i] < a[mnidx]:\n",
        "      mnidx = i\n",
        "  return mnidx\n",
        "\n",
        "v = [4, 6 , 8, 1, 3 ,9]\n",
        "print(find_mn_idx(v))"
      ],
      "execution_count": 18,
      "outputs": [
        {
          "output_type": "stream",
          "name": "stdout",
          "text": [
            "3\n"
          ]
        }
      ]
    },
    {
      "cell_type": "code",
      "metadata": {
        "colab": {
          "base_uri": "https://localhost:8080/"
        },
        "id": "Cnt9LgEf_aLW",
        "outputId": "64b4339a-099e-4c65-8d32-bca78d11ad8f"
      },
      "source": [
        "#최대값 위치 찾기\n",
        "#주어진 숫자 n 개 중에서 가장 큰 수의 위치를 찾는 알고리즘...\n",
        "\n",
        "# 4, 6 , 8, 1, 3 ,9 -> 5\n",
        "\n",
        "def find_max_idx(a):\n",
        "  n = len(a)\n",
        "  mxidx = 0\n",
        "  for i in range(1,n):\n",
        "    if a[i] > a[mxidx]:\n",
        "      mxidx = i\n",
        "  return mxidx\n",
        "\n",
        "v = [4,6,8,1,3,9]\n",
        "print(find_max_idx(v))\n"
      ],
      "execution_count": 15,
      "outputs": [
        {
          "output_type": "stream",
          "name": "stdout",
          "text": [
            "5\n"
          ]
        }
      ]
    },
    {
      "cell_type": "code",
      "metadata": {
        "colab": {
          "base_uri": "https://localhost:8080/"
        },
        "id": "FqwnFOfTA2dA",
        "outputId": "c90cb173-3652-4d05-ca32-cd3153aca80f"
      },
      "source": [
        "# 팩토리얼 구하기\n",
        "\n",
        "# 3! = 1 * 2 * 3 = 6\n",
        "# 5! = 1 * 2 * 3 * 4 * 5 = 120\n",
        "\n",
        "def fact(n):\n",
        "  f = 1 \n",
        "  for i in range(1, n+1):\n",
        "    f = f * i\n",
        "  return f\n",
        "\n",
        "print(fact(3))"
      ],
      "execution_count": 20,
      "outputs": [
        {
          "output_type": "stream",
          "name": "stdout",
          "text": [
            "6\n"
          ]
        }
      ]
    },
    {
      "cell_type": "code",
      "metadata": {
        "id": "ywrOvcwHBlHf"
      },
      "source": [
        "# 재귀 팩토리얼\n",
        "\n",
        "def hello():\n",
        "  print(\"Hello\")\n",
        "  hello()\n",
        "\n",
        "hello()\n"
      ],
      "execution_count": null,
      "outputs": []
    },
    {
      "cell_type": "code",
      "metadata": {
        "colab": {
          "base_uri": "https://localhost:8080/"
        },
        "id": "nvPL0MZWFgeP",
        "outputId": "89c35bc0-8c02-407f-aab3-4e0abac1ca1d"
      },
      "source": [
        "def fact(m):\n",
        "  if m <= 1:\n",
        "    return 1\n",
        "  return m * fact(m-1)\n",
        "\n",
        "print(fact(3))"
      ],
      "execution_count": 24,
      "outputs": [
        {
          "output_type": "stream",
          "name": "stdout",
          "text": [
            "6\n"
          ]
        }
      ]
    },
    {
      "cell_type": "code",
      "metadata": {
        "colab": {
          "base_uri": "https://localhost:8080/"
        },
        "id": "qRSYnjjeHBNr",
        "outputId": "fb88e14f-10e4-48d8-cd19-cad64f01c423"
      },
      "source": [
        "# 자료구조 - 데이터와 정보를 컴퓨터에 저장하고 보관하는 방식.\n",
        "#            알고리즘 문제를 풀려면 주어진 자료를 효율적으로 정리해서 보관하는 것이 필수\n",
        "\n",
        "# 회문찾기 palindrome   큐와 스택\n",
        "# 역삼역\n",
        "#  기러기\n",
        "# 일요일\n",
        "# 사진사\n",
        "# 기특한 특기\n",
        "# 다시 합창 합시다\n",
        " # 큐와 스택\n",
        " # 줄서기 - 먼저온사람이 먼저 택시를 탄다.First in First out\n",
        "\n",
        " # 1 2 3 4              1 2 3 4\n",
        "\n",
        " #   in - enqueue      out - dequeue\n",
        "\n",
        " # 스택 stack\n",
        " # 접시쌓기 - 맨 위에 있는 접시 부터 처리. Last in First out\n",
        "\n",
        "  #   in - push      out - pop\n",
        "\n",
        "#  1 2 3 4             4 3 2 1\n",
        "\n",
        "\n",
        "# 회문 찾기\n",
        "\n",
        "# <-  w o w\n",
        "#큐 w 스택 w\n",
        "#   w o w ->\n",
        "\n",
        "def palin(s):\n",
        "  qu = []\n",
        "  st = []\n",
        "\n",
        "  # 1단계 - 각각 큐와 스택에 넣는다. \n",
        "  for x in s:\n",
        "    if x.isalpha():  # 숫자, 기호, 특수문자가 아니면\n",
        "      qu.append(x.lower())\n",
        "      st.append(x.lower())\n",
        "  # 2 단계 - 큐와 스택에 들어 있는 문자를 꺼내면서 비교\n",
        "  while qu:  #큐에 문자가 있는 만큼만 반복\n",
        "    if qu.pop(0) != st.pop(): \n",
        "      return False\n",
        "  return True\n",
        "\n",
        "print(palin(\"wow\"))\n",
        "print(palin(\"madam, i'm adam\"))\n",
        "print(palin(\"madam, iam adam\"))\n",
        "\n",
        "\n"
      ],
      "execution_count": 31,
      "outputs": [
        {
          "output_type": "stream",
          "name": "stdout",
          "text": [
            "True\n",
            "True\n",
            "False\n"
          ]
        }
      ]
    },
    {
      "cell_type": "code",
      "metadata": {
        "id": "2fyQclZ4MFMz"
      },
      "source": [
        "#"
      ],
      "execution_count": null,
      "outputs": []
    }
  ]
}